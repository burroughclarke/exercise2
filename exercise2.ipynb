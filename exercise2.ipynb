{
 "cells": [
  {
   "cell_type": "code",
   "execution_count": 82,
   "metadata": {},
   "outputs": [],
   "source": [
    "# ! pip3 install GitPython\n",
    "# ! pip3 install seaborn\n",
    "\n",
    "import numpy as np\n",
    "import pandas as pd\n",
    "import os\n",
    "import time\n",
    "\n",
    "import git\n",
    "from git import RemoteProgress\n",
    "from git import Repo\n",
    "\n",
    "import matplotlib.pyplot as plt\n",
    "import seaborn as sns\n",
    "\n",
    "BLUE   = '\\033[94m'\n",
    "GREEN  = '\\033[92m'\n",
    "ORANGE = '\\033[93m'\n",
    "RED    = '\\033[91m'\n",
    "ENDC   = '\\033[0m'"
   ]
  },
  {
   "cell_type": "markdown",
   "metadata": {},
   "source": [
    "### Set 'repository', 'fixing commit' and 'affected file'"
   ]
  },
  {
   "cell_type": "code",
   "execution_count": 87,
   "metadata": {},
   "outputs": [],
   "source": [
    "### (1) ONOS\n",
    "local_link = \"onos\"\n",
    "fixing_commit = \"af1fa39a53c0016e92c1de246807879c16f507d6\"\n",
    "affected_files = [\"cli/src/main/java/org/onosproject/cli/net/DeviceSetControllersCommand.java\",\n",
    "                  \"drivers/utilities/src/main/java/org/onosproject/drivers/utilities/XmlConfigParser.java\"]\n",
    "\n",
    "### (2) OFBIZ\n",
    "# local_link = \"ofbiz\"\n",
    "# # fixing_commit = \"e47a65896bd12e23e090436c0b6e2478f162ae3e\" # PROVIDED FIXING COMMIT (that can't be found)\n",
    "# fixing_commit = \"34125e42d1db74064482c296c871e11c92dc4527\"   # ACTUAL FIXING COMMIT \n",
    "# affected_files = [\"framework/base/src/org/ofbiz/base/util/template/FreeMarkerWorker.java\"]\n",
    "\n",
    "### (3) STRUTS\n",
    "# local_link = \"struts\"\n",
    "# fixing_commit = \"9d47af6ffa355977b5acc713e6d1f25fac260a28\"\n",
    "# affected_files = [\"core/src/main/java/com/opensymphony/xwork2/validator/validators/URLValidator.java\"]"
   ]
  },
  {
   "cell_type": "markdown",
   "metadata": {},
   "source": [
    "### (a) Message and title of fixing commit"
   ]
  },
  {
   "cell_type": "code",
   "execution_count": 88,
   "metadata": {},
   "outputs": [
    {
     "name": "stdout",
     "output_type": "stream",
     "text": [
      "commit af1fa39a53c0016e92c1de246807879c16f507d6\n",
      "Author: Andrea Campanella <andrea@opennetworking.org>\n",
      "Date:   Tue Jun 26 11:16:51 2018 +0200\n",
      "\n",
      "    [OS] Fix for XXE in netconf drivers xml utils\n",
      "    \n",
      "    Change-Id: Ie38901decb59712c7cf6c717f42bbb746c1e1921\n"
     ]
    }
   ],
   "source": [
    "repo = Repo(local_link)\n",
    "\n",
    "show_data = repo.git.show(\"-s\", fixing_commit).splitlines()\n",
    "for line in show_data:\n",
    "    print(line)"
   ]
  },
  {
   "cell_type": "markdown",
   "metadata": {},
   "source": [
    "### (b) total files affected "
   ]
  },
  {
   "cell_type": "code",
   "execution_count": 48,
   "metadata": {},
   "outputs": [
    {
     "name": "stdout",
     "output_type": "stream",
     "text": [
      "total repo commits:  24427 \n",
      "\n",
      "{'framework/base/src/org/ofbiz/base/util/template/FreeMarkerWorker.java': {'insertions': 31, 'deletions': 0, 'lines': 31}}\n",
      "number of files affected:  1 \n",
      "\n",
      "commit hash:  34125e42d1db74064482c296c871e11c92dc4527\n"
     ]
    }
   ],
   "source": [
    "# 'commit.hexsha' can be replaced with just 'commit'\n",
    "print(\"total repo commits: \", len(list(repo.iter_commits())), \"\\n\")\n",
    "\n",
    "for commit in list(repo.iter_commits()):\n",
    "#     print(commit)\n",
    "#     print(commit.message)\n",
    "    if commit.hexsha == fixing_commit: \n",
    "        print(commit.stats.files)\n",
    "        print(\"number of files affected: \", len(commit.stats.files), \"\\n\")\n",
    "        print(\"commit hash: \", commit)"
   ]
  },
  {
   "cell_type": "markdown",
   "metadata": {},
   "source": [
    "### (c) total directories affected "
   ]
  },
  {
   "cell_type": "code",
   "execution_count": 37,
   "metadata": {
    "scrolled": true
   },
   "outputs": [
    {
     "name": "stdout",
     "output_type": "stream",
     "text": [
      "folder: framework/base/src/org/ofbiz/base/util/template\n"
     ]
    }
   ],
   "source": [
    "for commit in list(repo.iter_commits()):\n",
    "    if str(commit) == fixing_commit: \n",
    "        \n",
    "        for file in commit.stats.files:\n",
    "#             print(file)\n",
    "            folder = file.split(\"/\")[0:-1]\n",
    "            print(\"folder: \" + \"/\".join(folder))"
   ]
  },
  {
   "cell_type": "markdown",
   "metadata": {},
   "source": [
    "### (d) total lines of code (INCLUDING comments and blank lines) deleted\n",
    "### (e) total lines of code (INCLUDING comments and blank lines) added\n",
    "### (f) total lines of code (EXCLUDING comments and blank lines) deleted\n",
    "### (g) total lines of code (EXCLUDING comments and blank lines) added"
   ]
  },
  {
   "cell_type": "code",
   "execution_count": 70,
   "metadata": {
    "scrolled": true
   },
   "outputs": [
    {
     "name": "stdout",
     "output_type": "stream",
     "text": [
      "[\u001b[94mimport java.io.PrintWriter;\u001b[0m]\n",
      "[\u001b[94mimport java.io.StringWriter;\u001b[0m]\n",
      "[\u001b[94mimport org.ofbiz.base.util.StringUtil.SimpleEncoder;\u001b[0m]\n",
      "[\u001b[93mBLANK\u001b[0m]\n",
      "[\u001b[94mimport freemarker.template.TemplateExceptionHandler;\u001b[0m]\n",
      "[\u001b[93mBLANK\u001b[0m]\n",
      "[\u001b[94m        newConfig.setTemplateExceptionHandler(new FreeMarkerWorker.OFBizTemplateExceptionHandler());\u001b[0m]\n",
      "[\u001b[93mBLANK\u001b[0m]\n",
      "[\u001b[93m    /**\u001b[0m]\n",
      "[\u001b[93m     * OFBiz specific TemplateExceptionHandler.  Sanitizes any error messages present in\u001b[0m]\n",
      "[\u001b[93m     * the stack trace prior to printing to the output writer.\u001b[0m]\n",
      "[\u001b[93m     *\u001b[0m]\n",
      "[\u001b[93m     */\u001b[0m]\n",
      "[\u001b[94m    static class OFBizTemplateExceptionHandler implements TemplateExceptionHandler {\u001b[0m]\n",
      "[\u001b[93mBLANK\u001b[0m]\n",
      "[\u001b[94m        @Override\u001b[0m]\n",
      "[\u001b[94m        public void handleTemplateException(TemplateException te, Environment env, Writer out) throws TemplateException {\u001b[0m]\n",
      "[\u001b[94m            StringWriter tempWriter = new StringWriter();\u001b[0m]\n",
      "[\u001b[94m            PrintWriter pw = new PrintWriter(tempWriter, true);\u001b[0m]\n",
      "[\u001b[94m            te.printStackTrace(pw);\u001b[0m]\n",
      "[\u001b[94m            String stackTrace = tempWriter.toString();\u001b[0m]\n",
      "[\u001b[93mBLANK\u001b[0m]\n",
      "[\u001b[94m            StringUtil.SimpleEncoder simpleEncoder = (SimpleEncoder) FreeMarkerWorker.getWrappedObject(\"simpleEncoder\", env);\u001b[0m]\n",
      "[\u001b[94m            if (simpleEncoder != null) {\u001b[0m]\n",
      "[\u001b[94m                stackTrace = simpleEncoder.encode(stackTrace);\u001b[0m]\n",
      "[\u001b[94m            }\u001b[0m]\n",
      "[\u001b[94m            try {\u001b[0m]\n",
      "[\u001b[94m                out.write(stackTrace);\u001b[0m]\n",
      "[\u001b[94m            } catch (IOException e) {\u001b[0m]\n",
      "[\u001b[94m                Debug.logError(e, module);\u001b[0m]\n",
      "[\u001b[94m            }\u001b[0m]\n",
      "[\u001b[94m        }\u001b[0m]\n",
      "[\u001b[94m    }\u001b[0m]\n",
      "total lines added (INCLUDING comments and blanks):  33\n",
      "total lines added (EXCLUDING comments and blanks):  23\n",
      "total lines removed (INCLUDING comments and blanks):  0\n",
      "total lines removed (EXCLUDING comments and blanks):  0\n"
     ]
    }
   ],
   "source": [
    "diff_data = repo.git.diff(fixing_commit + \"^\", fixing_commit).splitlines()\n",
    "\n",
    "total_lines_added_including_blank_comments   = 0\n",
    "total_lines_added_excluding_blank_comments   = 0\n",
    "total_lines_removed_including_blank_comments = 0\n",
    "total_lines_removed_excluding_blank_comments = 0\n",
    "\n",
    "isComment = False\n",
    "\n",
    "for line in diff_data:\n",
    "\n",
    "    # determine whether the line is an addition or a deletion\n",
    "    isAdded   = False\n",
    "    isRemoved = False\n",
    "    \n",
    "    if line.startswith(\"+\"):\n",
    "        isAdded = True \n",
    "    if line.startswith(\"-\"):\n",
    "        isRemoved = True\n",
    "\n",
    "    # remove the leading '+'\n",
    "    line = line[1:]\n",
    "\n",
    "    # ignore 'file path' lines\n",
    "    if line.startswith(\"++\") or line.startswith(\"--\"):\n",
    "        continue\n",
    "    \n",
    "    # detect when comment code starts\n",
    "    if line.strip().startswith(\"/*\") or line.startswith('\"\"\"'):\n",
    "        isComment = True\n",
    "\n",
    "    # if line is empty or is a single-line comment, it is a 'blank or comment' line\n",
    "    if len(line.strip()) == 0:\n",
    "        total_lines_added_including_blank_comments += 1\n",
    "#         print(line)\n",
    "        print(\"[\" + ORANGE + \"BLANK\" + ENDC + \"]\")\n",
    "    elif isAdded and (isComment or line.startswith(\"//\") or line.startswith(\"#\")):\n",
    "        total_lines_added_including_blank_comments += 1\n",
    "        print(\"[\" + ORANGE + line + ENDC + \"]\")\n",
    "    elif isAdded:\n",
    "#             print(\"Whitespace chars: \", len(line), \" vs total chars: \", len(line))\n",
    "        total_lines_added_including_blank_comments += 1\n",
    "        total_lines_added_excluding_blank_comments += 1\n",
    "        print(\"[\" + BLUE + line + ENDC + \"]\")\n",
    "    elif isRemoved:\n",
    "        print(\"[\" + RED + line + ENDC + \"]\")\n",
    "        total_lines_removed_including_blank_comments += 1\n",
    "        total_lines_removed_excluding_blank_comments += 1      \n",
    "       \n",
    "        # detect when comment code ends\n",
    "    if line.strip().endswith(\"*/\") or line.endswith('\"\"\"'):\n",
    "        isComment = False\n",
    "        \n",
    "print(\"total lines added (INCLUDING comments and blanks): \", total_lines_added_including_blank_comments)\n",
    "print(\"total lines added (EXCLUDING comments and blanks): \", total_lines_added_excluding_blank_comments)\n",
    "print(\"total lines removed (INCLUDING comments and blanks): \", total_lines_removed_including_blank_comments)\n",
    "print(\"total lines removed (EXCLUDING comments and blanks): \", total_lines_removed_excluding_blank_comments)"
   ]
  },
  {
   "cell_type": "markdown",
   "metadata": {},
   "source": [
    "### (h) How many days between fixing commit and previous commit to the same file?\n",
    "### (i) How many times has the file been modified since creation?\n",
    "### (j) Which developers have modifed the file?"
   ]
  },
  {
   "cell_type": "code",
   "execution_count": 92,
   "metadata": {},
   "outputs": [
    {
     "name": "stdout",
     "output_type": "stream",
     "text": [
      "\t \u001b[93m cli/src/main/java/org/onosproject/cli/net/DeviceSetControllersCommand.java \u001b[0m\n",
      "0068fd084e2ce1bddf113c36cb63347ce4350c59\t12/10/2018\tRay Milkey\n",
      "d84f89ba3d18fb8e9c44fa0bab004d24c56b0a81\t29/9/2018\tRay Milkey\n",
      "\u001b[94maf1fa39a53c0016e92c1de246807879c16f507d6\u001b[0m\t26/6/2018\tAndrea Campanella\n",
      "\u001b[92m67de597c5d2ccef246c7f564beab6064695e509c\u001b[0m\t26/3/2018\tYuta HIGUCHI\n",
      "a09fe5b0b75659dc9ff23fe938dd50aea0a0b129\t4/8/2017\tBrian O'Connor\n",
      "54f28e23ac9a969f7d33d5756c9f929bf97c6520\t3/8/2016\tGerrit Code Review\n",
      "5ab426f9ffd145916bb41df408d7fef1781b9128\t9/4/2016\tBrian O'Connor\n",
      "eb70a94b5504180de5772d5229a4aae353960240\t20/11/2015\tGerrit Code Review\n",
      "ed976a405fa3db38903ce369c9ece7023d310a21\t9/10/2015\tGerrit Code Review\n",
      "\n",
      "Total commits to file: 9\n",
      "Days between fixing commit and previous commit: 93 days\n",
      "Unique contributors:  \u001b[92m ['Ray Milkey', 'Andrea Campanella', 'Yuta HIGUCHI', \"Brian O'Connor\", 'Gerrit Code Review'] \u001b[0m\n",
      "Total unique contributors to file:  5 \n",
      "\n",
      "\n",
      "\t \u001b[93m drivers/utilities/src/main/java/org/onosproject/drivers/utilities/XmlConfigParser.java \u001b[0m\n",
      "35cc7c4dd6a5ec8026c8496e2c6f87fc0f9f6764\t19/9/2018\tAndrea Campanella\n",
      "\u001b[94maf1fa39a53c0016e92c1de246807879c16f507d6\u001b[0m\t26/6/2018\tAndrea Campanella\n",
      "\u001b[92ma09fe5b0b75659dc9ff23fe938dd50aea0a0b129\u001b[0m\t4/8/2017\tBrian O'Connor\n",
      "0184a7b47891040056bb42111e276287309e849d\t7/4/2017\tRay Milkey\n",
      "dbb631fc8840653da5208896ae2eb05803236d70\t17/5/2016\tHIGUCHI Yuta\n",
      "9605c788c3f5a11b4372d5c16b15761056cf59fd\t17/5/2016\tHIGUCHI Yuta\n",
      "4c0ef6b54af9004262b609d3a42b54e61883ceba\t10/5/2016\tYuta HIGUCHI\n",
      "34a3f69be11cc09c3ac0cb629d966fbc515fb186\t10/5/2016\tGerrit Code Review\n",
      "5ab426f9ffd145916bb41df408d7fef1781b9128\t9/4/2016\tBrian O'Connor\n",
      "1dff77cd0f13bd635ca43f5ede5d66e725de23d9\t24/2/2016\tGerrit Code Review\n",
      "17b4c85e66943c1482d659950cedd92e34a86082\t23/2/2016\tGerrit Code Review\n",
      "51539b85d3107c79601129f48041dc72f118e003\t29/1/2016\tGerrit Code Review\n",
      "238d96e22c775e3ceffed486a13aa252b76f3beb\t22/1/2016\tGerrit Code Review\n",
      "\n",
      "Total commits to file: 13\n",
      "Days between fixing commit and previous commit: 327 days\n",
      "Unique contributors:  \u001b[92m ['Ray Milkey', 'Andrea Campanella', 'Yuta HIGUCHI', \"Brian O'Connor\", 'Gerrit Code Review', 'HIGUCHI Yuta'] \u001b[0m\n",
      "Total unique contributors to file:  6 \n",
      "\n",
      "\n"
     ]
    }
   ],
   "source": [
    "import math\n",
    "\n",
    "last_commit_time = -1\n",
    "between_time = -1\n",
    "prevCommit = False\n",
    "contributors = []\n",
    "\n",
    "for affected_file in affected_files:\n",
    "    print(\"\\t\", ORANGE, affected_file, ENDC)\n",
    "    commits_touching_path = list(repo.iter_commits(paths=affected_file))\n",
    "\n",
    "    # print(commits_touching_path)\n",
    "\n",
    "    for commit in commits_touching_path:\n",
    "\n",
    "        # GitPython differentiates between 'author' and 'commiter'\n",
    "        # commited_date is in epoch time\n",
    "        year  = str(time.localtime(commit.committed_date).tm_year)\n",
    "        month = str(time.localtime(commit.committed_date).tm_mon)\n",
    "        day   = str(time.localtime(commit.committed_date).tm_mday)\n",
    "\n",
    "        if prevCommit:\n",
    "            print(GREEN + commit.hexsha + ENDC + \"\\t\" + day + \"/\" + month + \"/\" + year + \"\\t\" + str(commit.committer))\n",
    "            prevCommit = False\n",
    "            between_time = last_commit_time - commit.committed_date\n",
    "        elif commit.hexsha == fixing_commit:\n",
    "            print(BLUE + commit.hexsha + ENDC + \"\\t\" + day + \"/\" + month + \"/\" + year + \"\\t\" + str(commit.committer))\n",
    "            last_commit_time = commit.committed_date\n",
    "            prevCommit = True\n",
    "        else:\n",
    "            print(commit.hexsha + \"\\t\" + day + \"/\" + month + \"/\" + year + \"\\t\" + str(commit.committer))\n",
    "\n",
    "        # add the contributor to the list of contributors, if they are not already on the list\n",
    "        if str(commit.committer) not in contributors:\n",
    "            contributors.append(str(commit.committer))\n",
    "\n",
    "    print(\"\\nTotal commits to file:\", len(commits_touching_path))\n",
    "    print(\"Days between fixing commit and previous commit:\", math.ceil(between_time / 86400), \"days\")\n",
    "    print(\"Unique contributors: \", GREEN, contributors, ENDC)\n",
    "    print(\"Total unique contributors to file: \", len(contributors), \"\\n\\n\")"
   ]
  },
  {
   "cell_type": "markdown",
   "metadata": {},
   "source": [
    "### (k) For each developer in (j), how may commits have they submitted? Are they experienced or new?"
   ]
  },
  {
   "cell_type": "code",
   "execution_count": 75,
   "metadata": {},
   "outputs": [
    {
     "name": "stdout",
     "output_type": "stream",
     "text": [
      "author: [Jacques Le Roux]\n",
      "author: [Jacopo Cappellato]\n",
      "author: [Johannes Cornelius Bakker]\n",
      "author: [Adam Heath]\n",
      "author: [Adrian Crum]\n",
      "author: [Scott Gray]\n",
      "author: [David E. Jones]\n",
      "author: [Marco Risaliti]\n",
      "author: [Deepak Dixit]\n",
      "author: [Bruno Busco]\n",
      "author: [Taher A. Alkhateeb]\n"
     ]
    },
    {
     "data": {
      "text/html": [
       "<div>\n",
       "<style scoped>\n",
       "    .dataframe tbody tr th:only-of-type {\n",
       "        vertical-align: middle;\n",
       "    }\n",
       "\n",
       "    .dataframe tbody tr th {\n",
       "        vertical-align: top;\n",
       "    }\n",
       "\n",
       "    .dataframe thead th {\n",
       "        text-align: right;\n",
       "    }\n",
       "</style>\n",
       "<table border=\"1\" class=\"dataframe\">\n",
       "  <thead>\n",
       "    <tr style=\"text-align: right;\">\n",
       "      <th></th>\n",
       "      <th>Commit</th>\n",
       "      <th>Author</th>\n",
       "    </tr>\n",
       "  </thead>\n",
       "  <tbody>\n",
       "    <tr>\n",
       "      <th>0</th>\n",
       "      <td>9425</td>\n",
       "      <td>Jacques Le Roux &lt;jleroux@apache.org&gt;</td>\n",
       "    </tr>\n",
       "    <tr>\n",
       "      <th>1</th>\n",
       "      <td>3245</td>\n",
       "      <td>Jacopo Cappellato &lt;jacopoc@apache.org&gt;</td>\n",
       "    </tr>\n",
       "    <tr>\n",
       "      <th>2</th>\n",
       "      <td>2605</td>\n",
       "      <td>Johannes Cornelius Bakker &lt;hansbak@apache.org&gt;</td>\n",
       "    </tr>\n",
       "    <tr>\n",
       "      <th>3</th>\n",
       "      <td>2034</td>\n",
       "      <td>Adam Heath &lt;doogie@apache.org&gt;</td>\n",
       "    </tr>\n",
       "    <tr>\n",
       "      <th>4</th>\n",
       "      <td>1933</td>\n",
       "      <td>Adrian Crum &lt;adrianc@apache.org&gt;</td>\n",
       "    </tr>\n",
       "    <tr>\n",
       "      <th>5</th>\n",
       "      <td>1590</td>\n",
       "      <td>Scott Gray &lt;lektran@apache.org&gt;</td>\n",
       "    </tr>\n",
       "    <tr>\n",
       "      <th>6</th>\n",
       "      <td>1411</td>\n",
       "      <td>David E. Jones &lt;jonesde@apache.org&gt;</td>\n",
       "    </tr>\n",
       "    <tr>\n",
       "      <th>7</th>\n",
       "      <td>835</td>\n",
       "      <td>Marco Risaliti &lt;mrisaliti@apache.org&gt;</td>\n",
       "    </tr>\n",
       "    <tr>\n",
       "      <th>8</th>\n",
       "      <td>648</td>\n",
       "      <td>Deepak Dixit &lt;deepak@apache.org&gt;</td>\n",
       "    </tr>\n",
       "    <tr>\n",
       "      <th>9</th>\n",
       "      <td>485</td>\n",
       "      <td>Bruno Busco &lt;buscob@apache.org&gt;</td>\n",
       "    </tr>\n",
       "    <tr>\n",
       "      <th>10</th>\n",
       "      <td>110</td>\n",
       "      <td>Taher A. Alkhateeb &lt;taher@apache.org&gt;</td>\n",
       "    </tr>\n",
       "  </tbody>\n",
       "</table>\n",
       "</div>"
      ],
      "text/plain": [
       "    Commit                                          Author\n",
       "0     9425            Jacques Le Roux <jleroux@apache.org>\n",
       "1     3245          Jacopo Cappellato <jacopoc@apache.org>\n",
       "2     2605  Johannes Cornelius Bakker <hansbak@apache.org>\n",
       "3     2034                  Adam Heath <doogie@apache.org>\n",
       "4     1933                Adrian Crum <adrianc@apache.org>\n",
       "5     1590                 Scott Gray <lektran@apache.org>\n",
       "6     1411             David E. Jones <jonesde@apache.org>\n",
       "7      835           Marco Risaliti <mrisaliti@apache.org>\n",
       "8      648                Deepak Dixit <deepak@apache.org>\n",
       "9      485                 Bruno Busco <buscob@apache.org>\n",
       "10     110           Taher A. Alkhateeb <taher@apache.org>"
      ]
     },
     "execution_count": 75,
     "metadata": {},
     "output_type": "execute_result"
    }
   ],
   "source": [
    "commit_authors = repo.git.shortlog(\"-sne\", \"--all\").splitlines()\n",
    "\n",
    "author_commits = []\n",
    "\n",
    "for commit_author in commit_authors:\n",
    "    commit, author = commit_author.split(\"\\t\")\n",
    "    # remove author's email\n",
    "    author_clean = author.split(\"<\")[0].strip()\n",
    "#     print(\"author: [\" + author_clean + \"]\")\n",
    "    if author_clean in contributors:\n",
    "        print(\"author: [\" + author_clean + \"]\")\n",
    "        author_commits.append([int(commit), author])\n",
    "    \n",
    "df = pd.DataFrame(author_commits, columns=['Commit', 'Author'])\n",
    "df.head(100)"
   ]
  },
  {
   "cell_type": "code",
   "execution_count": null,
   "metadata": {},
   "outputs": [],
   "source": []
  }
 ],
 "metadata": {
  "kernelspec": {
   "display_name": "Python 3",
   "language": "python",
   "name": "python3"
  },
  "language_info": {
   "codemirror_mode": {
    "name": "ipython",
    "version": 3
   },
   "file_extension": ".py",
   "mimetype": "text/x-python",
   "name": "python",
   "nbconvert_exporter": "python",
   "pygments_lexer": "ipython3",
   "version": "3.7.3"
  }
 },
 "nbformat": 4,
 "nbformat_minor": 2
}
